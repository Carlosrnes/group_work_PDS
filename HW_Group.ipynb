{
  "nbformat": 4,
  "nbformat_minor": 0,
  "metadata": {
    "kernelspec": {
      "display_name": "Python 3",
      "language": "python",
      "name": "python3"
    },
    "language_info": {
      "codemirror_mode": {
        "name": "ipython",
        "version": 3
      },
      "file_extension": ".py",
      "mimetype": "text/x-python",
      "name": "python",
      "nbconvert_exporter": "python",
      "pygments_lexer": "ipython3",
      "version": "3.9.5"
    },
    "colab": {
      "name": "HW_Group.ipynb",
      "provenance": [],
      "include_colab_link": true
    }
  },
  "cells": [
    {
      "cell_type": "markdown",
      "metadata": {
        "id": "view-in-github",
        "colab_type": "text"
      },
      "source": [
        "<a href=\"https://colab.research.google.com/github/Carlosrnes/group_work_PDS/blob/main/HW_Group.ipynb\" target=\"_parent\"><img src=\"https://colab.research.google.com/assets/colab-badge.svg\" alt=\"Open In Colab\"/></a>"
      ]
    },
    {
      "cell_type": "markdown",
      "metadata": {
        "id": "NL0Fm8XjESWk"
      },
      "source": [
        "# Programming for Data Science Practical Examination\n",
        "## Introduction \n",
        "\n",
        "The challenge of this pratical is to explore the public procurement data available in the portal www.base.gov.pt. <br>\n",
        "Public Procurements are contracts establish between a public institutions (the issuer of a procurement) and a third-party supplier. <br>\n",
        "Each contract is classified using the Common Procurement Vocabulary (CPV). The CPV classification aims at establishing a single classification system for public procurement in Europe, helping in comparative statistics and regulation. The CPV is a five level hierarchical classification encoded in a nine digit string. For instance the first two digits identify the division, the first three the groups, and so on. You can find more information about the CPVs at https://simap.ted.europa.eu/cpv\n",
        "\n",
        "\n",
        "We will use a sample dataset extracted from the portal BASE (www.base.gov.pt) that contains information on public procurements executed between 2012 and 2014. Below you can find a step-by-step instructions of what the tasks you need to perform in order to analyse this dataset. Each step indicates the amount of points you can score. Make sure you comment all your code and provide, when requested, a discussion about what you have done and the results obtained.\n",
        "\n",
        "This examination does not intend to test your ability to:<br>\n",
        ". perform complex data analysis;<br>\n",
        ". develop complex data-driven models; <br>\n",
        ". write optimal algorithmic solutions to a problem. <br>\n",
        "\n",
        "**Instead**, it aims to test your ability to implement a pre-planned step by step project in python.\n",
        "\n",
        "Your submission will be graded according to the following guidelines:\n",
        "1. Execution (does your program does what is asked from the exercise?)\n",
        "2. Objectivity (are you using the adequate libraries? are you using a libraries not in the scope of exercise?)\n",
        "3. Readibility of your code (is your code correctly documented? is variable naming adequate?)\n",
        "\n",
        "This is an individual activity!\n",
        "\n",
        "## Submission Details\n",
        "\n",
        "The deadline for the submission is the 30th of October at 11:59 (am), and submission must be done through the corresponding activity in moodle. Your submission should consist of an archive **(zip file)** containing the following files: <br>\n",
        "1) A copy of this notebook with your answers; <br>\n",
        "2) A html version of the notebook with your answers (File -> Download As -> html); <br>\n",
        "3) An Authorship Statement; <br> \n",
        "\n",
        "**Submissions done in .rar archives will not be graded. <br>\n",
        "Submissions delivered that are not in a jupyter notebook format will not be graded.**\n",
        "\n",
        "Good Luck, and enjoy!\n",
        "\n",
        "**PLEASE FILL THE BELOW CELLS WITH THE GROUP MEMBERS INFORMATION:** <br>"
      ]
    },
    {
      "cell_type": "code",
      "metadata": {
        "id": "-DwoA3w2ESW6"
      },
      "source": [
        "# Student ID:\n",
        "# Student Name:"
      ],
      "execution_count": null,
      "outputs": []
    },
    {
      "cell_type": "code",
      "metadata": {
        "id": "FSCtOm1XESXD"
      },
      "source": [
        "# Student ID:\n",
        "# Student Name:"
      ],
      "execution_count": null,
      "outputs": []
    },
    {
      "cell_type": "code",
      "metadata": {
        "id": "Yd3SSo0kESXG"
      },
      "source": [
        "# Student ID:\n",
        "# Student Name:"
      ],
      "execution_count": null,
      "outputs": []
    },
    {
      "cell_type": "markdown",
      "metadata": {
        "id": "E7RThJyzESXI"
      },
      "source": [
        "**Important NOTE**\n",
        "\n",
        "Any reference to the value of procurement, refers to the price or cost of the contract which is in the column \"precoContratual\""
      ]
    },
    {
      "cell_type": "markdown",
      "metadata": {
        "id": "IZGZpIFTESXK"
      },
      "source": [
        "## Boilerplate\n",
        "\n",
        "Before you start, let us make sure you have all the necessary packages in your working environment. To that end run the following cells to install and load all the necessary libraries.\n",
        "\n",
        "**Note** You only need to run this cell once, not everytime you open the notebook."
      ]
    },
    {
      "cell_type": "code",
      "metadata": {
        "id": "3zK0xR__ESXN"
      },
      "source": [
        "# Run this cell only if you are missing any of the packages below\n",
        "import sys\n",
        "!{sys.executable} -m pip install --upgrade pip --user\n",
        "!{sys.executable} -m pip install xlrd\n",
        "!{sys.executable} -m pip install requests\n",
        "!{sys.executable} -m pip install seaborn"
      ],
      "execution_count": null,
      "outputs": []
    },
    {
      "cell_type": "markdown",
      "metadata": {
        "id": "-Ri07tw0ESXR"
      },
      "source": [
        "Then we load the necessary libraries to execute each of the steps below."
      ]
    },
    {
      "cell_type": "code",
      "metadata": {
        "id": "r4oI3HpXESXU"
      },
      "source": [
        "import pandas as pd\n",
        "import numpy as np\n",
        "import scipy as sp\n",
        "import seaborn as sns\n",
        "import matplotlib.pyplot as plt\n",
        "import statsmodels as sm\n",
        "import os\n",
        "from zipfile import ZipFile"
      ],
      "execution_count": null,
      "outputs": []
    },
    {
      "cell_type": "code",
      "metadata": {
        "id": "bMJALRC4ESXX"
      },
      "source": [
        "import requests"
      ],
      "execution_count": null,
      "outputs": []
    },
    {
      "cell_type": "code",
      "metadata": {
        "scrolled": false,
        "colab": {
          "base_uri": "https://localhost:8080/"
        },
        "id": "ClZVoQCDESXZ",
        "outputId": "754811de-4e23-410b-9893-1a47c1219153"
      },
      "source": [
        "print('Pandas version ',pd.__version__)\n",
        "print('Numpy version ',np.__version__)\n",
        "print('Scipy version ',sp.__version__)\n",
        "print('Seaborn version ',sns.__version__)\n",
        "print('StatsModels version ',sm.__version__)"
      ],
      "execution_count": null,
      "outputs": [
        {
          "output_type": "stream",
          "name": "stdout",
          "text": [
            "Pandas version  1.1.5\n",
            "Numpy version  1.19.5\n",
            "Scipy version  1.4.1\n",
            "Seaborn version  0.11.2\n",
            "StatsModels version  0.10.2\n"
          ]
        }
      ]
    },
    {
      "cell_type": "markdown",
      "metadata": {
        "id": "PZ-IS6z1ESXb"
      },
      "source": [
        "In the following steps, please use the alias defined at this step. This will help us to correct your answers and track your steps. Students that fail to use the pre-defined aliases will be penalized. \n",
        "\n",
        "Finally, the following cell downloads the dataset for this project. <br>"
      ]
    },
    {
      "cell_type": "code",
      "metadata": {
        "id": "kI-snK-GESXe"
      },
      "source": [
        "r = requests.get('https://www.dropbox.com/s/43jqravvvddaljb/PDS2021_Data.zip?dl=1', allow_redirects=True)\n",
        "open('Data.zip', 'wb').write(r.content);\n",
        "with ZipFile('Data.zip', 'r') as zipObj:\n",
        "    zipObj.extractall('DATA')"
      ],
      "execution_count": null,
      "outputs": []
    },
    {
      "cell_type": "markdown",
      "metadata": {
        "id": "k2_rZwRrESXh"
      },
      "source": [
        "The above code will store the datafiles in a folder called \"DATA\" that is in the same filepath as this notebook. <br>\n",
        "The dataset consists of three xlsx files containing all contracts available in 2018 concerning the contracts issued in 2012, 2013, and 2014 that where available in BASE."
      ]
    },
    {
      "cell_type": "markdown",
      "metadata": {
        "id": "_FCqaLbxESXj"
      },
      "source": [
        "## Exercises (The action starts here)\n",
        "\n",
        "<b>[Step 1. | 0.5 points ]</b> Load all the procurement datafiles (contratos2012.xlsx, contratos2013.xlsx, and contratos2014.xlsx) into a single dataframe named <i>data</i>.<br>\n",
        "Notes: This operation might take a while. When reading data from excel it is safer to always specify the Sheet you want to read. You might need to reset the indexes and drop a column of the final dataframe to obtain a more workable dataframe."
      ]
    },
    {
      "cell_type": "code",
      "metadata": {
        "id": "nfKZvKxmESXm"
      },
      "source": [
        "contratos2012 = pd.read_excel('/content/DATA/contratos2012.xlsx', sheet_name='Folha1')\n",
        "\n",
        "contratos2013 = pd.read_excel('/content/DATA/contratos2013.xlsx', sheet_name='Folha1')\n",
        "\n",
        "contratos2014 = pd.read_excel('/content/DATA/contratos2014.xlsx', sheet_name='Folha1')"
      ],
      "execution_count": 108,
      "outputs": []
    },
    {
      "cell_type": "code",
      "metadata": {
        "scrolled": true,
        "id": "VsAutA3mESXk"
      },
      "source": [
        "data = pd.concat([contratos2012, contratos2013, contratos2014])"
      ],
      "execution_count": 147,
      "outputs": []
    },
    {
      "cell_type": "markdown",
      "metadata": {
        "id": "zLnmhRkrESXn"
      },
      "source": [
        "<b>[Step 2. | 0.5 points ]</b> Perform some quick inspection of the data file in order to answer the following questions:\n",
        "1. How many records does the dataset include?"
      ]
    },
    {
      "cell_type": "code",
      "metadata": {
        "colab": {
          "base_uri": "https://localhost:8080/"
        },
        "id": "OpY3agmdESXo",
        "outputId": "8ee900ce-b335-402c-c855-4d502dc47ccb"
      },
      "source": [
        "data.shape"
      ],
      "execution_count": 148,
      "outputs": [
        {
          "output_type": "execute_result",
          "data": {
            "text/plain": [
              "(250092, 14)"
            ]
          },
          "metadata": {},
          "execution_count": 148
        }
      ]
    },
    {
      "cell_type": "markdown",
      "metadata": {
        "id": "fIcjWRkKESXq"
      },
      "source": [
        "2. What are the fields names?"
      ]
    },
    {
      "cell_type": "code",
      "metadata": {
        "scrolled": true,
        "colab": {
          "base_uri": "https://localhost:8080/"
        },
        "id": "b4AHfI29ESXs",
        "outputId": "4e27b5e6-bfb4-42d2-a343-a6b7b39e0457"
      },
      "source": [
        "data.info()"
      ],
      "execution_count": 149,
      "outputs": [
        {
          "output_type": "stream",
          "name": "stdout",
          "text": [
            "<class 'pandas.core.frame.DataFrame'>\n",
            "Int64Index: 250092 entries, 0 to 102373\n",
            "Data columns (total 14 columns):\n",
            " #   Column                  Non-Null Count   Dtype         \n",
            "---  ------                  --------------   -----         \n",
            " 0   idcontrato              250092 non-null  int64         \n",
            " 1   nAnuncio                16740 non-null   object        \n",
            " 2   tipoContrato            250092 non-null  object        \n",
            " 3   tipoprocedimento        250092 non-null  object        \n",
            " 4   objectoContrato         250075 non-null  object        \n",
            " 5   adjudicantes            250092 non-null  object        \n",
            " 6   adjudicatarios          250085 non-null  object        \n",
            " 7   dataPublicacao          250092 non-null  datetime64[ns]\n",
            " 8   dataCelebracaoContrato  250092 non-null  datetime64[ns]\n",
            " 9   precoContratual         250092 non-null  float64       \n",
            " 10  cpv                     250035 non-null  object        \n",
            " 11  prazoExecucao           250092 non-null  int64         \n",
            " 12  localExecucao           250092 non-null  object        \n",
            " 13  fundamentacao           250092 non-null  object        \n",
            "dtypes: datetime64[ns](2), float64(1), int64(2), object(9)\n",
            "memory usage: 28.6+ MB\n"
          ]
        }
      ]
    },
    {
      "cell_type": "markdown",
      "metadata": {
        "id": "w1QDMdZJESXs"
      },
      "source": [
        "3. What are the datatypes of each field?"
      ]
    },
    {
      "cell_type": "code",
      "metadata": {
        "colab": {
          "base_uri": "https://localhost:8080/"
        },
        "id": "CJ_Xj1QLESXu",
        "outputId": "5d9fcbc8-cce7-4c43-bc2b-0d759357c358"
      },
      "source": [
        "data.dtypes"
      ],
      "execution_count": 150,
      "outputs": [
        {
          "output_type": "execute_result",
          "data": {
            "text/plain": [
              "idcontrato                         int64\n",
              "nAnuncio                          object\n",
              "tipoContrato                      object\n",
              "tipoprocedimento                  object\n",
              "objectoContrato                   object\n",
              "adjudicantes                      object\n",
              "adjudicatarios                    object\n",
              "dataPublicacao            datetime64[ns]\n",
              "dataCelebracaoContrato    datetime64[ns]\n",
              "precoContratual                  float64\n",
              "cpv                               object\n",
              "prazoExecucao                      int64\n",
              "localExecucao                     object\n",
              "fundamentacao                     object\n",
              "dtype: object"
            ]
          },
          "metadata": {},
          "execution_count": 150
        }
      ]
    },
    {
      "cell_type": "markdown",
      "metadata": {
        "id": "novIMY-QESXv"
      },
      "source": [
        "<b>[Step 3. | 3 points ]</b> As you have probably noticed our raw data is not exactly the cleanest dataset in the block. Indeed, we will need to perform some parsing in order to obtain a good working data. In that sense, write the necessary code to perform the following steps: <br>\n",
        "1. Break the field <i>cpv</i> into two columns named <i>cpvDOC</i> and <i>CPV</i>.<br>\n",
        "   The field <i>cpvDOC</i> should retain the CPV id, while the <i>CPV</i> its Description <br>\n",
        "   For instance, a record with value \"72416000-9, Fornecedores de aplicações\" should lead to a <i>cpvDOC</i> equal to \"72416000-9\" and a <i>CPV</i> equal to \"Fornecedores de aplicações\" <br>\n",
        "   \n",
        "   \n",
        "Use the head command to display the top 10 rows of these new columns (and only these new columns)."
      ]
    },
    {
      "cell_type": "code",
      "metadata": {
        "colab": {
          "base_uri": "https://localhost:8080/",
          "height": 1000
        },
        "id": "2aMvX7ZPESXx",
        "outputId": "397a4303-bb52-491a-eed8-debcaa10fde7"
      },
      "source": [
        "data.head(10)"
      ],
      "execution_count": 151,
      "outputs": [
        {
          "output_type": "execute_result",
          "data": {
            "text/html": [
              "<div>\n",
              "<style scoped>\n",
              "    .dataframe tbody tr th:only-of-type {\n",
              "        vertical-align: middle;\n",
              "    }\n",
              "\n",
              "    .dataframe tbody tr th {\n",
              "        vertical-align: top;\n",
              "    }\n",
              "\n",
              "    .dataframe thead th {\n",
              "        text-align: right;\n",
              "    }\n",
              "</style>\n",
              "<table border=\"1\" class=\"dataframe\">\n",
              "  <thead>\n",
              "    <tr style=\"text-align: right;\">\n",
              "      <th></th>\n",
              "      <th>idcontrato</th>\n",
              "      <th>nAnuncio</th>\n",
              "      <th>tipoContrato</th>\n",
              "      <th>tipoprocedimento</th>\n",
              "      <th>objectoContrato</th>\n",
              "      <th>adjudicantes</th>\n",
              "      <th>adjudicatarios</th>\n",
              "      <th>dataPublicacao</th>\n",
              "      <th>dataCelebracaoContrato</th>\n",
              "      <th>precoContratual</th>\n",
              "      <th>cpv</th>\n",
              "      <th>prazoExecucao</th>\n",
              "      <th>localExecucao</th>\n",
              "      <th>fundamentacao</th>\n",
              "    </tr>\n",
              "  </thead>\n",
              "  <tbody>\n",
              "    <tr>\n",
              "      <th>0</th>\n",
              "      <td>85378</td>\n",
              "      <td>4227/2009</td>\n",
              "      <td>Aquisição de serviços</td>\n",
              "      <td>Concurso público</td>\n",
              "      <td>Prestação de Serviços para Elaboração do Plano...</td>\n",
              "      <td>506579425 - Município de Faro</td>\n",
              "      <td>507358830 - Land Design -Paisagismo e Ambiente...</td>\n",
              "      <td>2012-02-21</td>\n",
              "      <td>2012-02-13</td>\n",
              "      <td>103000.00</td>\n",
              "      <td>79421200-3 - Serviços de concepção de projecto...</td>\n",
              "      <td>550</td>\n",
              "      <td>Portugal, Faro, Faro</td>\n",
              "      <td>Artigo 20.º, n.º 1, alínea b) do Código dos Co...</td>\n",
              "    </tr>\n",
              "    <tr>\n",
              "      <th>1</th>\n",
              "      <td>1308086</td>\n",
              "      <td>4606/2009</td>\n",
              "      <td>Empreitadas de obras públicas</td>\n",
              "      <td>Concurso público</td>\n",
              "      <td>09EPS0073 - Empreitada de construção do novo e...</td>\n",
              "      <td>505587815 - INST GESTAO FINANC INFRA-ESTRUTURA...</td>\n",
              "      <td>508195985 - Ferreira Edinorte - Sul, ACE</td>\n",
              "      <td>2014-11-24</td>\n",
              "      <td>2012-11-14</td>\n",
              "      <td>5771641.83</td>\n",
              "      <td>45210000-2 - Construção de edifícios</td>\n",
              "      <td>900</td>\n",
              "      <td>Portugal, Coimbra, Coimbra</td>\n",
              "      <td>Artigo 19.º, alínea b) do Código dos Contratos...</td>\n",
              "    </tr>\n",
              "    <tr>\n",
              "      <th>2</th>\n",
              "      <td>115568</td>\n",
              "      <td>NaN</td>\n",
              "      <td>Aquisição de serviços</td>\n",
              "      <td>Ajuste Direto Regime Geral</td>\n",
              "      <td>PROJECTO DO SISTEMA DE ADUÇÃO E ARMAZENAMENTO ...</td>\n",
              "      <td>508160570 - VRSA Sociedade de Gestão Urbana, E...</td>\n",
              "      <td>505107929 - FTD, Consultores de Engenharia, Lda.</td>\n",
              "      <td>2012-10-08</td>\n",
              "      <td>2012-09-25</td>\n",
              "      <td>119700.00</td>\n",
              "      <td>71242000-6 - Preparação de projecto e concepçã...</td>\n",
              "      <td>150</td>\n",
              "      <td>Portugal, Faro, Vila Real Sto Antonio</td>\n",
              "      <td>Artigo 20.º, n.º 1, alínea a) do Código dos Co...</td>\n",
              "    </tr>\n",
              "    <tr>\n",
              "      <th>3</th>\n",
              "      <td>115569</td>\n",
              "      <td>NaN</td>\n",
              "      <td>Aquisição de serviços</td>\n",
              "      <td>Ajuste Direto Regime Geral</td>\n",
              "      <td>O objecto principal é a contratação de serviço...</td>\n",
              "      <td>508160570 - VRSA Sociedade de Gestão Urbana, E...</td>\n",
              "      <td>501453989 - Ecoserviços - Gestão de Sistemas E...</td>\n",
              "      <td>2012-09-14</td>\n",
              "      <td>2012-08-29</td>\n",
              "      <td>40500.00</td>\n",
              "      <td>71242000-6 - Preparação de projecto e concepçã...</td>\n",
              "      <td>120</td>\n",
              "      <td>Portugal, Faro, Vila Real Sto Antonio</td>\n",
              "      <td>Artigo 20.º, n.º 1, alínea a) do Código dos Co...</td>\n",
              "    </tr>\n",
              "    <tr>\n",
              "      <th>4</th>\n",
              "      <td>115570</td>\n",
              "      <td>NaN</td>\n",
              "      <td>Aquisição de serviços</td>\n",
              "      <td>Ajuste Direto Regime Geral</td>\n",
              "      <td>PROJECTO DO SISTEMA INTERCEPTOR DE VILA NOVA D...</td>\n",
              "      <td>508160570 - VRSA Sociedade de Gestão Urbana, E...</td>\n",
              "      <td>504959239 - Cota 200 - Projetos e Consultoria ...</td>\n",
              "      <td>2012-10-04</td>\n",
              "      <td>2012-09-07</td>\n",
              "      <td>36600.00</td>\n",
              "      <td>71242000-6 - Preparação de projecto e concepçã...</td>\n",
              "      <td>120</td>\n",
              "      <td>Portugal, Faro, Vila Real Sto Antonio</td>\n",
              "      <td>Artigo 20.º, n.º 1, alínea a) do Código dos Co...</td>\n",
              "    </tr>\n",
              "    <tr>\n",
              "      <th>5</th>\n",
              "      <td>115571</td>\n",
              "      <td>NaN</td>\n",
              "      <td>Aquisição de serviços</td>\n",
              "      <td>Ajuste Direto Regime Geral</td>\n",
              "      <td>PROJECTO DO SISTEMA INTERCEPTOR DE POCINHO / C...</td>\n",
              "      <td>508160570 - VRSA Sociedade de Gestão Urbana, E...</td>\n",
              "      <td>504959239 - Cota 200 - Projetos e Consultoria ...</td>\n",
              "      <td>2012-10-04</td>\n",
              "      <td>2012-09-07</td>\n",
              "      <td>65800.00</td>\n",
              "      <td>71242000-6 - Preparação de projecto e concepçã...</td>\n",
              "      <td>120</td>\n",
              "      <td>Portugal, Faro, Vila Real Sto Antonio</td>\n",
              "      <td>Artigo 20.º, n.º 1, alínea a) do Código dos Co...</td>\n",
              "    </tr>\n",
              "    <tr>\n",
              "      <th>6</th>\n",
              "      <td>115572</td>\n",
              "      <td>NaN</td>\n",
              "      <td>Aquisição de serviços</td>\n",
              "      <td>Ajuste Direto Regime Geral</td>\n",
              "      <td>LIGAÇÃO DAS REDES DE SANEAMENTO AO LONGO DA FR...</td>\n",
              "      <td>508160570 - VRSA Sociedade de Gestão Urbana, E...</td>\n",
              "      <td>502305401 - Viés - Consultoria, Estudos e Proj...</td>\n",
              "      <td>2012-10-04</td>\n",
              "      <td>2012-09-27</td>\n",
              "      <td>44500.00</td>\n",
              "      <td>71242000-6 - Preparação de projecto e concepçã...</td>\n",
              "      <td>150</td>\n",
              "      <td>Portugal, Faro, Vila Real Sto Antonio</td>\n",
              "      <td>Artigo 20.º, n.º 1, alínea a) do Código dos Co...</td>\n",
              "    </tr>\n",
              "    <tr>\n",
              "      <th>7</th>\n",
              "      <td>115573</td>\n",
              "      <td>NaN</td>\n",
              "      <td>Aquisição de serviços</td>\n",
              "      <td>Ajuste Direto Regime Geral</td>\n",
              "      <td>O objecto principal é a contratação de serviço...</td>\n",
              "      <td>508160570 - VRSA Sociedade de Gestão Urbana, E...</td>\n",
              "      <td>501453989 - Ecoserviços - Gestão de Sistemas E...</td>\n",
              "      <td>2012-09-14</td>\n",
              "      <td>2012-08-29</td>\n",
              "      <td>31000.00</td>\n",
              "      <td>71242000-6 - Preparação de projecto e concepçã...</td>\n",
              "      <td>120</td>\n",
              "      <td>Portugal, Faro, Vila Real Sto Antonio</td>\n",
              "      <td>Artigo 20.º, n.º 1, alínea a) do Código dos Co...</td>\n",
              "    </tr>\n",
              "    <tr>\n",
              "      <th>8</th>\n",
              "      <td>115574</td>\n",
              "      <td>NaN</td>\n",
              "      <td>Aquisição de serviços</td>\n",
              "      <td>Ajuste Direto Regime Geral</td>\n",
              "      <td>LIGAÇÃO DAS REDES DE SANEAMENTO DA ZONA CENTRA...</td>\n",
              "      <td>508160570 - VRSA Sociedade de Gestão Urbana, E...</td>\n",
              "      <td>502305401 - Viés - Consultoria, Estudos e Proj...</td>\n",
              "      <td>2012-10-04</td>\n",
              "      <td>2012-09-27</td>\n",
              "      <td>54800.00</td>\n",
              "      <td>71242000-6 - Preparação de projecto e concepçã...</td>\n",
              "      <td>150</td>\n",
              "      <td>Portugal, Faro, Vila Real Sto Antonio</td>\n",
              "      <td>Artigo 20.º, n.º 1, alínea a) do Código dos Co...</td>\n",
              "    </tr>\n",
              "    <tr>\n",
              "      <th>9</th>\n",
              "      <td>115575</td>\n",
              "      <td>NaN</td>\n",
              "      <td>Aquisição de serviços</td>\n",
              "      <td>Ajuste Direto Regime Geral</td>\n",
              "      <td>PROJECTO DAS REDES DE DRENAGEM DE ÁGUAS RESIDU...</td>\n",
              "      <td>508160570 - VRSA Sociedade de Gestão Urbana, E...</td>\n",
              "      <td>504959239 - Cota 200 - Projetos e Consultoria ...</td>\n",
              "      <td>2012-10-04</td>\n",
              "      <td>2012-09-07</td>\n",
              "      <td>31000.00</td>\n",
              "      <td>71242000-6 - Preparação de projecto e concepçã...</td>\n",
              "      <td>120</td>\n",
              "      <td>Portugal, Faro, Vila Real Sto Antonio</td>\n",
              "      <td>Artigo 20.º, n.º 1, alínea a) do Código dos Co...</td>\n",
              "    </tr>\n",
              "  </tbody>\n",
              "</table>\n",
              "</div>"
            ],
            "text/plain": [
              "   idcontrato  ...                                      fundamentacao\n",
              "0       85378  ...  Artigo 20.º, n.º 1, alínea b) do Código dos Co...\n",
              "1     1308086  ...  Artigo 19.º, alínea b) do Código dos Contratos...\n",
              "2      115568  ...  Artigo 20.º, n.º 1, alínea a) do Código dos Co...\n",
              "3      115569  ...  Artigo 20.º, n.º 1, alínea a) do Código dos Co...\n",
              "4      115570  ...  Artigo 20.º, n.º 1, alínea a) do Código dos Co...\n",
              "5      115571  ...  Artigo 20.º, n.º 1, alínea a) do Código dos Co...\n",
              "6      115572  ...  Artigo 20.º, n.º 1, alínea a) do Código dos Co...\n",
              "7      115573  ...  Artigo 20.º, n.º 1, alínea a) do Código dos Co...\n",
              "8      115574  ...  Artigo 20.º, n.º 1, alínea a) do Código dos Co...\n",
              "9      115575  ...  Artigo 20.º, n.º 1, alínea a) do Código dos Co...\n",
              "\n",
              "[10 rows x 14 columns]"
            ]
          },
          "metadata": {},
          "execution_count": 151
        }
      ]
    },
    {
      "cell_type": "markdown",
      "metadata": {
        "id": "tzHmsio7ESXz"
      },
      "source": [
        "2. Convert any fields with dates to datetime objects. Show the datatypes of all fields after your conversion.<br>\n",
        "**Tip:** You might want to check the link https://pandas.pydata.org/docs/reference/api/pandas.to_datetime.html for some tips regarding datetime conversion \n",
        "\n"
      ]
    },
    {
      "cell_type": "code",
      "metadata": {
        "colab": {
          "base_uri": "https://localhost:8080/"
        },
        "id": "4N4GQ8gGESX0",
        "outputId": "e4416cdb-627b-413c-fd80-1ea7ce5b7cad"
      },
      "source": [
        "data[['dataPublicacao', 'dataCelebracaoContrato']].dtypes"
      ],
      "execution_count": 152,
      "outputs": [
        {
          "output_type": "execute_result",
          "data": {
            "text/plain": [
              "dataPublicacao            datetime64[ns]\n",
              "dataCelebracaoContrato    datetime64[ns]\n",
              "dtype: object"
            ]
          },
          "metadata": {},
          "execution_count": 152
        }
      ]
    },
    {
      "cell_type": "markdown",
      "metadata": {
        "id": "iHcAj_VCESX0"
      },
      "source": [
        "3. In the fields <i>adjudicantes</i> (issuers) and <i>adjudicatários</i> (suppliers) you should have noticed that it includes both the name and the fiscal numbers (NIF) of the participating institutions.<br>\n",
        "   For each of those two fields, split each record into two new fields. <br>\n",
        "   <i>Entidade adjudicante - Nome, NIF</i> split into <i>issuerNIF</i> and <i>issuerName</i>.<br>\n",
        "   <i>Entidade adjudicatária - Nome, NIF</i> split into <i>supplierNIF</i> and <i>supplierName</i>.<br>\n",
        "   \n",
        "   \n",
        "   You will find that in some cases there are multiple entities in those fields, which are separated by \"|\". Explain: how have you worked around such cases? \n",
        "   \n",
        "   If you are not able to perform this, feel free to ignore/drop the records that have multiple entities in each of those fields, but report what is the percentage of procurements that you would be dropping."
      ]
    },
    {
      "cell_type": "code",
      "metadata": {
        "id": "_wFcG-RcNemG"
      },
      "source": [
        "# new data frame with split value columns\n",
        "adjudicantes = data[\"adjudicantes\"].str.split(\" - \", n = 1, expand = True)\n",
        "  \n",
        "# making separate first name column from new data frame\n",
        "data[\"issuerNIF\"]= adjudicantes[0].astype(int)\n",
        "  \n",
        "# making separate last name column from new data frame\n",
        "data[\"issuerName\"]= adjudicantes[1]\n",
        "  \n",
        "# Dropping old Name columns\n",
        "data.drop(columns =[\"adjudicantes\"], inplace = True)\n",
        "  \n",
        "\n",
        "# new data frame with split value columns\n",
        "adjudicatarios = data[\"adjudicatarios\"].str.split(\" - \", n = 1, expand = True)\n",
        "  \n",
        "# making separate first name column from new data frame\n",
        "data[\"supplierNIF\"]= adjudicatarios[0]\n",
        "  \n",
        "# making separate last name column from new data frame\n",
        "data[\"supplierName\"]= adjudicatarios[1]\n",
        "  \n",
        "# Dropping old Name columns\n",
        "data.drop(columns =[\"adjudicatarios\"], inplace = True)"
      ],
      "execution_count": 153,
      "outputs": []
    },
    {
      "cell_type": "markdown",
      "metadata": {
        "id": "C2KOdh8bESX2"
      },
      "source": [
        ""
      ]
    },
    {
      "cell_type": "markdown",
      "metadata": {
        "id": "CAKG29GAESX3"
      },
      "source": [
        "4. Verify that the parsing was successful "
      ]
    },
    {
      "cell_type": "code",
      "metadata": {
        "colab": {
          "base_uri": "https://localhost:8080/",
          "height": 414
        },
        "id": "k242RDZ3ESX3",
        "outputId": "8327b29c-1edd-425f-8182-e05cca81e644"
      },
      "source": [
        "# df display\n",
        "data[[\"issuerNIF\", \"issuerName\", \"supplierNIF\", \"supplierName\"]]"
      ],
      "execution_count": 154,
      "outputs": [
        {
          "output_type": "execute_result",
          "data": {
            "text/html": [
              "<div>\n",
              "<style scoped>\n",
              "    .dataframe tbody tr th:only-of-type {\n",
              "        vertical-align: middle;\n",
              "    }\n",
              "\n",
              "    .dataframe tbody tr th {\n",
              "        vertical-align: top;\n",
              "    }\n",
              "\n",
              "    .dataframe thead th {\n",
              "        text-align: right;\n",
              "    }\n",
              "</style>\n",
              "<table border=\"1\" class=\"dataframe\">\n",
              "  <thead>\n",
              "    <tr style=\"text-align: right;\">\n",
              "      <th></th>\n",
              "      <th>issuerNIF</th>\n",
              "      <th>issuerName</th>\n",
              "      <th>supplierNIF</th>\n",
              "      <th>supplierName</th>\n",
              "    </tr>\n",
              "  </thead>\n",
              "  <tbody>\n",
              "    <tr>\n",
              "      <th>0</th>\n",
              "      <td>506579425</td>\n",
              "      <td>Município de Faro</td>\n",
              "      <td>507358830</td>\n",
              "      <td>Land Design -Paisagismo e Ambiente Ldª. | 5083...</td>\n",
              "    </tr>\n",
              "    <tr>\n",
              "      <th>1</th>\n",
              "      <td>505587815</td>\n",
              "      <td>INST GESTAO FINANC INFRA-ESTRUTURAS JUSTIÇA, IP</td>\n",
              "      <td>508195985</td>\n",
              "      <td>Ferreira Edinorte - Sul, ACE</td>\n",
              "    </tr>\n",
              "    <tr>\n",
              "      <th>2</th>\n",
              "      <td>508160570</td>\n",
              "      <td>VRSA Sociedade de Gestão Urbana, EM, SA</td>\n",
              "      <td>505107929</td>\n",
              "      <td>FTD, Consultores de Engenharia, Lda.</td>\n",
              "    </tr>\n",
              "    <tr>\n",
              "      <th>3</th>\n",
              "      <td>508160570</td>\n",
              "      <td>VRSA Sociedade de Gestão Urbana, EM, SA</td>\n",
              "      <td>501453989</td>\n",
              "      <td>Ecoserviços - Gestão de Sistemas Ecológicos, Lda</td>\n",
              "    </tr>\n",
              "    <tr>\n",
              "      <th>4</th>\n",
              "      <td>508160570</td>\n",
              "      <td>VRSA Sociedade de Gestão Urbana, EM, SA</td>\n",
              "      <td>504959239</td>\n",
              "      <td>Cota 200 - Projetos e Consultoria de Engenhari...</td>\n",
              "    </tr>\n",
              "    <tr>\n",
              "      <th>...</th>\n",
              "      <td>...</td>\n",
              "      <td>...</td>\n",
              "      <td>...</td>\n",
              "      <td>...</td>\n",
              "    </tr>\n",
              "    <tr>\n",
              "      <th>102369</th>\n",
              "      <td>512105030</td>\n",
              "      <td>Hospital de Santo Espírito da Ilha Terceira, E...</td>\n",
              "      <td>500347506</td>\n",
              "      <td>EUREST (PORTUGAL) - Sociedade Europeia de Rest...</td>\n",
              "    </tr>\n",
              "    <tr>\n",
              "      <th>102370</th>\n",
              "      <td>510839959</td>\n",
              "      <td>União das Freguesias de São Pedro de Alva e Sã...</td>\n",
              "      <td>509008380</td>\n",
              "      <td>Freguesia de Carvalho</td>\n",
              "    </tr>\n",
              "    <tr>\n",
              "      <th>102371</th>\n",
              "      <td>512048746</td>\n",
              "      <td>Associação de Desenvolvimento da Ilha de São J...</td>\n",
              "      <td>512001812</td>\n",
              "      <td>Rumo à Natureza Unipessoal</td>\n",
              "    </tr>\n",
              "    <tr>\n",
              "      <th>102372</th>\n",
              "      <td>600084264</td>\n",
              "      <td>Agrupamento de Escolas Abade de Baçal, Bragança</td>\n",
              "      <td>506345564</td>\n",
              "      <td>Solemp-Informática</td>\n",
              "    </tr>\n",
              "    <tr>\n",
              "      <th>102373</th>\n",
              "      <td>500745749</td>\n",
              "      <td>Cruz Vermelha Portuguesa</td>\n",
              "      <td>503504564</td>\n",
              "      <td>EDP Comercial, SA</td>\n",
              "    </tr>\n",
              "  </tbody>\n",
              "</table>\n",
              "<p>250092 rows × 4 columns</p>\n",
              "</div>"
            ],
            "text/plain": [
              "        issuerNIF  ...                                       supplierName\n",
              "0       506579425  ...  Land Design -Paisagismo e Ambiente Ldª. | 5083...\n",
              "1       505587815  ...                       Ferreira Edinorte - Sul, ACE\n",
              "2       508160570  ...               FTD, Consultores de Engenharia, Lda.\n",
              "3       508160570  ...   Ecoserviços - Gestão de Sistemas Ecológicos, Lda\n",
              "4       508160570  ...  Cota 200 - Projetos e Consultoria de Engenhari...\n",
              "...           ...  ...                                                ...\n",
              "102369  512105030  ...  EUREST (PORTUGAL) - Sociedade Europeia de Rest...\n",
              "102370  510839959  ...                              Freguesia de Carvalho\n",
              "102371  512048746  ...                         Rumo à Natureza Unipessoal\n",
              "102372  600084264  ...                                 Solemp-Informática\n",
              "102373  500745749  ...                                  EDP Comercial, SA\n",
              "\n",
              "[250092 rows x 4 columns]"
            ]
          },
          "metadata": {},
          "execution_count": 154
        }
      ]
    },
    {
      "cell_type": "markdown",
      "metadata": {
        "id": "RsZzD5t4ESX4"
      },
      "source": [
        "<b>[Step 4. | 5 points ]</b> Let us do some exploratory analysis of the data. The goal is to develop some familarity with the data, which we will do by answering some simple questions. Knowing which questions to ask is an important step for any successful data science project. In that sense, write down the necessary code to answer the following questions:\n",
        "\n",
        "You can report the results using a meaningful visualization (check out https://pandas.pydata.org/docs/reference/api/pandas.DataFrame.plot.html or the seaborn module)\n",
        "\n",
        "1. What is the total value (precoContratual) of procurements per month?"
      ]
    },
    {
      "cell_type": "code",
      "metadata": {
        "colab": {
          "base_uri": "https://localhost:8080/",
          "height": 293
        },
        "id": "j2Vtb_ryESX5",
        "outputId": "130d8f50-d1bf-4af6-db42-2fa1b331a90e"
      },
      "source": [
        "data.groupby(data.dataCelebracaoContrato.dt.strftime('%m'))['precoContratual'].sum().plot(kind='bar',stacked=True)\n",
        "\n",
        "plt.xlabel('Mes de Celebracao do Contrato')\n",
        "plt.ylabel('Preco Contratual')\n",
        "plt.show()"
      ],
      "execution_count": 155,
      "outputs": [
        {
          "output_type": "display_data",
          "data": {
            "image/png": "[encoded data removed]",
            "text/plain": [
              "<Figure size 432x288 with 1 Axes>"
            ]
          },
          "metadata": {
            "needs_background": "light"
          }
        }
      ]
    },
    {
      "cell_type": "markdown",
      "metadata": {
        "id": "MPztMBleESX6"
      },
      "source": [
        "2. How many procurements have been issued per **month of year**?"
      ]
    },
    {
      "cell_type": "code",
      "metadata": {
        "colab": {
          "base_uri": "https://localhost:8080/",
          "height": 311
        },
        "id": "wH6yQxOLESX7",
        "outputId": "50a4d744-ecfb-41c6-c330-dff33ece2a99"
      },
      "source": [
        "data.groupby(data.dataCelebracaoContrato.dt.strftime('%Y-%m'))['precoContratual'].count().plot(kind='bar',stacked=True)\n",
        "\n",
        "plt.xlabel('Ano e Mes de Celebracao do Contrato')\n",
        "plt.ylabel('Preco Contratual')\n",
        "plt.show()"
      ],
      "execution_count": 156,
      "outputs": [
        {
          "output_type": "display_data",
          "data": {
            "image/png": "[encoded data removed]",
            "text/plain": [
              "<Figure size 432x288 with 1 Axes>"
            ]
          },
          "metadata": {
            "needs_background": "light"
          }
        }
      ]
    },
    {
      "cell_type": "markdown",
      "metadata": {
        "id": "mpMPCY87ESX8"
      },
      "source": [
        "3. What is the distribution of values? In other words, what is the proportion of procurements that have value X?  \n",
        "Can you build a visualization and highlight what you found more interesting and discuss it? \n",
        "\n",
        "**Note:** Consider working with the Logarithm base 10 of values; Consider use predefined bin in the X values."
      ]
    },
    {
      "cell_type": "code",
      "metadata": {
        "id": "7MIbQRylESX9"
      },
      "source": [
        ""
      ],
      "execution_count": 156,
      "outputs": []
    },
    {
      "cell_type": "markdown",
      "metadata": {
        "id": "hC2VsEVzESX-"
      },
      "source": [
        "4. In the dataset, how many issuing Institutions are there? And how many suppliers?"
      ]
    },
    {
      "cell_type": "code",
      "metadata": {
        "colab": {
          "base_uri": "https://localhost:8080/"
        },
        "id": "dX8Iou1rESX-",
        "outputId": "39b94330-e48a-4f71-ceff-6b5f0e0fab53"
      },
      "source": [
        "issuing = data['issuerNIF'].nunique()\n",
        "\n",
        "issuing\n",
        "\n",
        "supplier = data['supplierNIF'].nunique()\n",
        "\n",
        "print('There are ', issuing, ' and ', supplier)"
      ],
      "execution_count": 157,
      "outputs": [
        {
          "output_type": "stream",
          "name": "stdout",
          "text": [
            "There are  5792  and  43044\n"
          ]
        }
      ]
    },
    {
      "cell_type": "markdown",
      "metadata": {
        "id": "J20YhJvkESX_"
      },
      "source": [
        "5. What services has ISEGI-Inst Superior de Estatistica e Gestão de Informação da UNL (NIF: 502322152) supplied? And who are the top three issuers/beneficiaries of such services?"
      ]
    },
    {
      "cell_type": "code",
      "metadata": {
        "colab": {
          "base_uri": "https://localhost:8080/"
        },
        "id": "fdjZQvxGESYA",
        "outputId": "858cbef9-a85f-418b-f68d-ea04ae3428c6"
      },
      "source": [
        "ISEGI = data[data['supplierNIF']=='502322152']\n",
        "\n",
        "ISEGI = ISEGI.groupby('cpv')['precoContratual'].sum()\n",
        "\n",
        "ISEGI"
      ],
      "execution_count": 158,
      "outputs": [
        {
          "output_type": "execute_result",
          "data": {
            "text/plain": [
              "cpv\n",
              "72000000-5 - Serviços de TI: consultoria, desenvolvimento de software, Internet e apoio                234596.0\n",
              "72212100-0 - Serviços de desenvolvimento de software para sectores específicos                           1950.0\n",
              "79310000-0 - Serviços de estudos de mercado                                                             22701.0\n",
              "79313000-1 - Serviços de avaliação dos resultados                                                       45480.0\n",
              "79320000-3 - Serviços de sondagens de opinião                                                           20761.0\n",
              "80000000-4 - Serviços de ensino e formação                                                              74250.0\n",
              "90712400-5 - Serviços de planeamento estratégico para a gestão ou conservação dos recursos naturais    274700.0\n",
              "Name: precoContratual, dtype: float64"
            ]
          },
          "metadata": {},
          "execution_count": 158
        }
      ]
    },
    {
      "cell_type": "code",
      "metadata": {
        "colab": {
          "base_uri": "https://localhost:8080/"
        },
        "id": "ryvvBubh6VCd",
        "outputId": "8fd5dc34-69a7-4033-d736-4ac2ffe85946"
      },
      "source": [
        "data.info()"
      ],
      "execution_count": 160,
      "outputs": [
        {
          "output_type": "stream",
          "name": "stdout",
          "text": [
            "<class 'pandas.core.frame.DataFrame'>\n",
            "Int64Index: 250092 entries, 0 to 102373\n",
            "Data columns (total 16 columns):\n",
            " #   Column                  Non-Null Count   Dtype         \n",
            "---  ------                  --------------   -----         \n",
            " 0   idcontrato              250092 non-null  int64         \n",
            " 1   nAnuncio                16740 non-null   object        \n",
            " 2   tipoContrato            250092 non-null  object        \n",
            " 3   tipoprocedimento        250092 non-null  object        \n",
            " 4   objectoContrato         250075 non-null  object        \n",
            " 5   dataPublicacao          250092 non-null  datetime64[ns]\n",
            " 6   dataCelebracaoContrato  250092 non-null  datetime64[ns]\n",
            " 7   precoContratual         250092 non-null  float64       \n",
            " 8   cpv                     250035 non-null  object        \n",
            " 9   prazoExecucao           250092 non-null  int64         \n",
            " 10  localExecucao           250092 non-null  object        \n",
            " 11  fundamentacao           250092 non-null  object        \n",
            " 12  issuerNIF               250092 non-null  int64         \n",
            " 13  issuerName              250092 non-null  object        \n",
            " 14  supplierNIF             250085 non-null  object        \n",
            " 15  supplierName            250085 non-null  object        \n",
            "dtypes: datetime64[ns](2), float64(1), int64(3), object(10)\n",
            "memory usage: 32.4+ MB\n"
          ]
        }
      ]
    },
    {
      "cell_type": "code",
      "metadata": {
        "colab": {
          "base_uri": "https://localhost:8080/"
        },
        "id": "arEMOY_e4QM9",
        "outputId": "5544a46b-ff48-4ef6-a43e-a92cacba070c"
      },
      "source": [
        "issuer_ISEGI = data[data['supplierNIF']=='502322152']\n",
        "\n",
        "issuer_ISEGI = issuer_ISEGI.groupby('issuerName')['precoContratual'].sum()\n",
        "\n",
        "issuer_ISEGI.nlargest(3)"
      ],
      "execution_count": 166,
      "outputs": [
        {
          "output_type": "execute_result",
          "data": {
            "text/plain": [
              "issuerName\n",
              "ARH - Administração da Região Hidrográfica do Algarve, I.P.    274700.0\n",
              "Instituto da Mobilidade e dos Transportes, I. P.               216134.0\n",
              "Administração Central do Sistema de Saúde, I. P.                74250.0\n",
              "Name: precoContratual, dtype: float64"
            ]
          },
          "metadata": {},
          "execution_count": 166
        }
      ]
    },
    {
      "cell_type": "markdown",
      "metadata": {
        "id": "epP8uMBGESYA"
      },
      "source": [
        "6. What are the top five services (CPV) contracted by Hospital de Santa Maria Maior (NIF: 506361381)?"
      ]
    },
    {
      "cell_type": "code",
      "metadata": {
        "colab": {
          "base_uri": "https://localhost:8080/"
        },
        "id": "pTmijnIEESYB",
        "outputId": "bf8cbf46-c78e-4eeb-8002-550a4b8ebb88"
      },
      "source": [
        "Santa_Maria = data[data['issuerNIF']==506361381]\n",
        "\n",
        "Santa_Maria = Santa_Maria.groupby('cpv')['precoContratual'].sum()\n",
        "\n",
        "Santa_Maria.nlargest(5)"
      ],
      "execution_count": 163,
      "outputs": [
        {
          "output_type": "execute_result",
          "data": {
            "text/plain": [
              "cpv\n",
              "33690000-3 - Medicamentos vários                                                   188839.715\n",
              "09310000-5 - Electricidade                                                          95664.240\n",
              "33696500-0 - Reagentes de laboratório                                               94468.890\n",
              "33000000-0 - Equipamento médico, medicamentos e produtos para cuidados pessoais     76867.200\n",
              "33100000-1 - Equipamento médico                                                     73950.380\n",
              "Name: precoContratual, dtype: float64"
            ]
          },
          "metadata": {},
          "execution_count": 163
        }
      ]
    },
    {
      "cell_type": "markdown",
      "metadata": {
        "id": "dJ1y97zVESYC"
      },
      "source": [
        "7. What services (CPV) has Novo Banco, S.A. (NIF: 513204016) supplied? Aggregate the output by CPV and sort by descending order of total value."
      ]
    },
    {
      "cell_type": "code",
      "metadata": {
        "colab": {
          "base_uri": "https://localhost:8080/"
        },
        "id": "IGfmrC6XESYD",
        "outputId": "b07e8749-c86a-49c5-df22-7e8d6d2c15f2"
      },
      "source": [
        "supplier_novo_banco = data[data['supplierNIF']=='503604704']\n",
        "\n",
        "supplier_novo_banco.groupby('cpv')['precoContratual'].sum().sort_values(ascending=False)"
      ],
      "execution_count": 167,
      "outputs": [
        {
          "output_type": "execute_result",
          "data": {
            "text/plain": [
              "cpv\n",
              "33690000-3 - Medicamentos vários                                                                      25506743.08\n",
              "33000000-0 - Equipamento médico, medicamentos e produtos para cuidados pessoais                       17425360.25\n",
              "33600000-6 - Produtos farmacêuticos                                                                    9446747.63\n",
              "33651400-2 - Antivíricos de uso sistémico                                                              5843003.67\n",
              "33651000-8 - Anti-infecciosos gerais de uso sistémico                                                  4704306.48\n",
              "33650000-1 - Anti-infecciosos gerais de uso sistémico, vacinas, antineoplásicos e imunomoduladores     3362186.78\n",
              "33698000-9 - Produtos para fins clínicos                                                               1701606.60\n",
              "33631100-3 - Antifúngicos usados em dermatologia                                                        561445.00\n",
              "33652000-5 - Antineoplásicos e imunomoduladores                                                         197983.62\n",
              "33651100-9 - Antibacterianos de uso sistémico                                                           103610.40\n",
              "24000000-4 - Produtos químicos                                                                           50723.79\n",
              "33661100-2 - Anestésicos                                                                                 22837.77\n",
              "Name: precoContratual, dtype: float64"
            ]
          },
          "metadata": {},
          "execution_count": 167
        }
      ]
    },
    {
      "cell_type": "markdown",
      "metadata": {
        "id": "RjqXola8ESYE"
      },
      "source": [
        "8. Can you measure the correlation between the length/duration of contract (\"prazoExecucao\") and the final value (\"precoContratual\")? Are longer contracts more costly?<br>\n",
        "(Remember there might already exist a method to help you out)\n",
        "    \n",
        "    8.1 What if you plot the average price per day as a function of the duration of the contract? What relationship to you obtain?\n",
        "    \n",
        "Note: The objective is to aggregate all contracts with a duration X, and then compute the average cost/value per day of such contracts. What relationship do you observe? Are longer contracts cheaper in a daily cost? Or more expensive?"
      ]
    },
    {
      "cell_type": "code",
      "metadata": {
        "id": "N1KGFBT2ESYF"
      },
      "source": [
        ""
      ],
      "execution_count": null,
      "outputs": []
    },
    {
      "cell_type": "code",
      "metadata": {
        "id": "nUhdu2ssESYG"
      },
      "source": [
        ""
      ],
      "execution_count": null,
      "outputs": []
    },
    {
      "cell_type": "markdown",
      "metadata": {
        "id": "U9OVJuTtESYH"
      },
      "source": [
        "<b>[Step 5. | 5 points ]</b> You probably have noticed that our dataset includes procurements issued by municipalities (Câmara Municipal or Município). Interesting huh?\n",
        "\n",
        "Next, we will explore municipality procurement data a bit more in detail. To that end, we will need to process our procurement dataset, in order to obtain the procurements of each municipality, aggregate the data and obtain the relevant metrics.\n",
        "\n",
        "However, the data is not uniform as some typos lead to the same municipality having different names. Moreover, there are municipal companies that have a different fiscal code than the municipalities. To make it simple, let us ignore municipal companies. Moreover, we have prepared beforehand a .csv file that lists all the NIF ids associated wit each municipality.\n",
        "\n",
        "**NOTE. The file MunicipiosNIF.xlsx is available to download from Moodle.**\n",
        "\n",
        "1. Download the file MunicipiosNIF.xlsx from Moodle and load it into a dataframe;"
      ]
    },
    {
      "cell_type": "code",
      "metadata": {
        "colab": {
          "base_uri": "https://localhost:8080/",
          "height": 414
        },
        "id": "C_ch31O0ESYI",
        "outputId": "e99b1588-61ea-4575-b0ff-1adb165e2363"
      },
      "source": [
        "municipiosNIF = pd.read_excel('MunicipiosNIF.xlsx', sheet_name='Sheet1')\n",
        "\n",
        "municipiosNIF"
      ],
      "execution_count": 168,
      "outputs": [
        {
          "output_type": "execute_result",
          "data": {
            "text/html": [
              "<div>\n",
              "<style scoped>\n",
              "    .dataframe tbody tr th:only-of-type {\n",
              "        vertical-align: middle;\n",
              "    }\n",
              "\n",
              "    .dataframe tbody tr th {\n",
              "        vertical-align: top;\n",
              "    }\n",
              "\n",
              "    .dataframe thead th {\n",
              "        text-align: right;\n",
              "    }\n",
              "</style>\n",
              "<table border=\"1\" class=\"dataframe\">\n",
              "  <thead>\n",
              "    <tr style=\"text-align: right;\">\n",
              "      <th></th>\n",
              "      <th>NIF</th>\n",
              "      <th>Municipality</th>\n",
              "    </tr>\n",
              "  </thead>\n",
              "  <tbody>\n",
              "    <tr>\n",
              "      <th>0</th>\n",
              "      <td>500051054</td>\n",
              "      <td>Município de Almada</td>\n",
              "    </tr>\n",
              "    <tr>\n",
              "      <th>1</th>\n",
              "      <td>500051062</td>\n",
              "      <td>Município de Sintra</td>\n",
              "    </tr>\n",
              "    <tr>\n",
              "      <th>2</th>\n",
              "      <td>500051070</td>\n",
              "      <td>Município de Lisboa</td>\n",
              "    </tr>\n",
              "    <tr>\n",
              "      <th>3</th>\n",
              "      <td>500745773</td>\n",
              "      <td>Município de Alcanena</td>\n",
              "    </tr>\n",
              "    <tr>\n",
              "      <th>4</th>\n",
              "      <td>500745943</td>\n",
              "      <td>Município de Oeiras</td>\n",
              "    </tr>\n",
              "    <tr>\n",
              "      <th>...</th>\n",
              "      <td>...</td>\n",
              "      <td>...</td>\n",
              "    </tr>\n",
              "    <tr>\n",
              "      <th>303</th>\n",
              "      <td>512074410</td>\n",
              "      <td>Município de Lagoa - Açores</td>\n",
              "    </tr>\n",
              "    <tr>\n",
              "      <th>304</th>\n",
              "      <td>512074771</td>\n",
              "      <td>Município de São Roque do Pico</td>\n",
              "    </tr>\n",
              "    <tr>\n",
              "      <th>305</th>\n",
              "      <td>512074836</td>\n",
              "      <td>Município de Lajes das Flores</td>\n",
              "    </tr>\n",
              "    <tr>\n",
              "      <th>306</th>\n",
              "      <td>512075506</td>\n",
              "      <td>Município das Velas</td>\n",
              "    </tr>\n",
              "    <tr>\n",
              "      <th>307</th>\n",
              "      <td>512079110</td>\n",
              "      <td>Município de Santa Cruz das Flores</td>\n",
              "    </tr>\n",
              "  </tbody>\n",
              "</table>\n",
              "<p>308 rows × 2 columns</p>\n",
              "</div>"
            ],
            "text/plain": [
              "           NIF                        Municipality\n",
              "0    500051054                 Município de Almada\n",
              "1    500051062                 Município de Sintra\n",
              "2    500051070                 Município de Lisboa\n",
              "3    500745773               Município de Alcanena\n",
              "4    500745943                 Município de Oeiras\n",
              "..         ...                                 ...\n",
              "303  512074410         Município de Lagoa - Açores\n",
              "304  512074771      Município de São Roque do Pico\n",
              "305  512074836       Município de Lajes das Flores\n",
              "306  512075506                 Município das Velas\n",
              "307  512079110  Município de Santa Cruz das Flores\n",
              "\n",
              "[308 rows x 2 columns]"
            ]
          },
          "metadata": {},
          "execution_count": 168
        }
      ]
    },
    {
      "cell_type": "markdown",
      "metadata": {
        "id": "M_1g6TDZESYI"
      },
      "source": [
        "2. Create a new dataframe that contains only the procurements issued by municipalities. Use the dataframe created above to aid your filtering.\n",
        "\n",
        "**Note:** you will end up with situations where the same municipality will have different names, although it has the same NIF. Consider using only the NIF as the unique identifier of a municipality, and if there are multiple names associated to it, to choose one. Explain how did you proceed."
      ]
    },
    {
      "cell_type": "code",
      "metadata": {
        "colab": {
          "base_uri": "https://localhost:8080/",
          "height": 472
        },
        "id": "1ujk-jDPESYK",
        "outputId": "8f33c0a8-a882-40c3-8d61-a329497671dc"
      },
      "source": [
        "df = pd.merge(data,municipiosNIF, left_on='issuerNIF',right_on='NIF',how=\"outer\",indicator=True)\n",
        "\n",
        "procurements_municipalities = df[df['NIF']!='NaN']\n",
        "\n",
        "procurements_municipalities.head(5)"
      ],
      "execution_count": 169,
      "outputs": [
        {
          "output_type": "execute_result",
          "data": {
            "text/html": [
              "<div>\n",
              "<style scoped>\n",
              "    .dataframe tbody tr th:only-of-type {\n",
              "        vertical-align: middle;\n",
              "    }\n",
              "\n",
              "    .dataframe tbody tr th {\n",
              "        vertical-align: top;\n",
              "    }\n",
              "\n",
              "    .dataframe thead th {\n",
              "        text-align: right;\n",
              "    }\n",
              "</style>\n",
              "<table border=\"1\" class=\"dataframe\">\n",
              "  <thead>\n",
              "    <tr style=\"text-align: right;\">\n",
              "      <th></th>\n",
              "      <th>idcontrato</th>\n",
              "      <th>nAnuncio</th>\n",
              "      <th>tipoContrato</th>\n",
              "      <th>tipoprocedimento</th>\n",
              "      <th>objectoContrato</th>\n",
              "      <th>dataPublicacao</th>\n",
              "      <th>dataCelebracaoContrato</th>\n",
              "      <th>precoContratual</th>\n",
              "      <th>cpv</th>\n",
              "      <th>prazoExecucao</th>\n",
              "      <th>localExecucao</th>\n",
              "      <th>fundamentacao</th>\n",
              "      <th>issuerNIF</th>\n",
              "      <th>issuerName</th>\n",
              "      <th>supplierNIF</th>\n",
              "      <th>supplierName</th>\n",
              "      <th>NIF</th>\n",
              "      <th>Municipality</th>\n",
              "      <th>_merge</th>\n",
              "    </tr>\n",
              "  </thead>\n",
              "  <tbody>\n",
              "    <tr>\n",
              "      <th>0</th>\n",
              "      <td>85378</td>\n",
              "      <td>4227/2009</td>\n",
              "      <td>Aquisição de serviços</td>\n",
              "      <td>Concurso público</td>\n",
              "      <td>Prestação de Serviços para Elaboração do Plano...</td>\n",
              "      <td>2012-02-21</td>\n",
              "      <td>2012-02-13</td>\n",
              "      <td>103000.00</td>\n",
              "      <td>79421200-3 - Serviços de concepção de projecto...</td>\n",
              "      <td>550</td>\n",
              "      <td>Portugal, Faro, Faro</td>\n",
              "      <td>Artigo 20.º, n.º 1, alínea b) do Código dos Co...</td>\n",
              "      <td>506579425</td>\n",
              "      <td>Município de Faro</td>\n",
              "      <td>507358830</td>\n",
              "      <td>Land Design -Paisagismo e Ambiente Ldª. | 5083...</td>\n",
              "      <td>506579425.0</td>\n",
              "      <td>Município de Faro</td>\n",
              "      <td>both</td>\n",
              "    </tr>\n",
              "    <tr>\n",
              "      <th>1</th>\n",
              "      <td>306651</td>\n",
              "      <td>2063/2011</td>\n",
              "      <td>Concessão de serviços públicos</td>\n",
              "      <td>Concurso público</td>\n",
              "      <td>Concessão de exploração de estacionamento nas ...</td>\n",
              "      <td>2012-02-16</td>\n",
              "      <td>2012-02-01</td>\n",
              "      <td>0.00</td>\n",
              "      <td>63712400-7 - Serviços de estacionamento</td>\n",
              "      <td>2610</td>\n",
              "      <td>Portugal, Faro, Faro</td>\n",
              "      <td>Artigo 31.º, n.º 1 do Código dos Contratos Púb...</td>\n",
              "      <td>506579425</td>\n",
              "      <td>Município de Faro</td>\n",
              "      <td>503496553</td>\n",
              "      <td>Masitrave, Lda</td>\n",
              "      <td>506579425.0</td>\n",
              "      <td>Município de Faro</td>\n",
              "      <td>both</td>\n",
              "    </tr>\n",
              "    <tr>\n",
              "      <th>2</th>\n",
              "      <td>339619</td>\n",
              "      <td>3183/2011</td>\n",
              "      <td>Outros</td>\n",
              "      <td>Concurso público</td>\n",
              "      <td>Fornecimento contínuo de produtos químicos par...</td>\n",
              "      <td>2012-03-16</td>\n",
              "      <td>2012-02-08</td>\n",
              "      <td>27208.00</td>\n",
              "      <td>98300000-6 - Serviços diversos</td>\n",
              "      <td>730</td>\n",
              "      <td>Portugal, Faro, Faro</td>\n",
              "      <td>Artigo 20.º, n.º 1, alínea b) do Código dos Co...</td>\n",
              "      <td>506579425</td>\n",
              "      <td>Município de Faro</td>\n",
              "      <td>504486799</td>\n",
              "      <td>Sagilab-Laboratório de Análise Técnicas,SA</td>\n",
              "      <td>506579425.0</td>\n",
              "      <td>Município de Faro</td>\n",
              "      <td>both</td>\n",
              "    </tr>\n",
              "    <tr>\n",
              "      <th>3</th>\n",
              "      <td>339620</td>\n",
              "      <td>3183/2011</td>\n",
              "      <td>Outros</td>\n",
              "      <td>Concurso público</td>\n",
              "      <td>Fornecimento contínuo de produtos químicos par...</td>\n",
              "      <td>2012-03-16</td>\n",
              "      <td>2012-02-20</td>\n",
              "      <td>20733.30</td>\n",
              "      <td>39830000-9 - Produtos de limpeza</td>\n",
              "      <td>730</td>\n",
              "      <td>Portugal, Faro, Faro</td>\n",
              "      <td>Artigo 20.º, n.º 1, alínea b) do Código dos Co...</td>\n",
              "      <td>506579425</td>\n",
              "      <td>Município de Faro</td>\n",
              "      <td>506565165</td>\n",
              "      <td>Prodyalca - Comércio de Produtos Químicos, Ldª</td>\n",
              "      <td>506579425.0</td>\n",
              "      <td>Município de Faro</td>\n",
              "      <td>both</td>\n",
              "    </tr>\n",
              "    <tr>\n",
              "      <th>4</th>\n",
              "      <td>339621</td>\n",
              "      <td>3183/2011</td>\n",
              "      <td>Outros</td>\n",
              "      <td>Concurso público</td>\n",
              "      <td>Fornecimento contínuo de produtos químicos par...</td>\n",
              "      <td>2012-03-16</td>\n",
              "      <td>2012-03-05</td>\n",
              "      <td>62595.82</td>\n",
              "      <td>24962000-5 - Produtos químicos para tratamento...</td>\n",
              "      <td>730</td>\n",
              "      <td>Portugal, Faro, Faro</td>\n",
              "      <td>Artigo 20.º, n.º 1, alínea b) do Código dos Co...</td>\n",
              "      <td>506579425</td>\n",
              "      <td>Município de Faro</td>\n",
              "      <td>500076219</td>\n",
              "      <td>Certikin Portugal, Lda</td>\n",
              "      <td>506579425.0</td>\n",
              "      <td>Município de Faro</td>\n",
              "      <td>both</td>\n",
              "    </tr>\n",
              "  </tbody>\n",
              "</table>\n",
              "</div>"
            ],
            "text/plain": [
              "   idcontrato   nAnuncio  ...       Municipality _merge\n",
              "0       85378  4227/2009  ...  Município de Faro   both\n",
              "1      306651  2063/2011  ...  Município de Faro   both\n",
              "2      339619  3183/2011  ...  Município de Faro   both\n",
              "3      339620  3183/2011  ...  Município de Faro   both\n",
              "4      339621  3183/2011  ...  Município de Faro   both\n",
              "\n",
              "[5 rows x 19 columns]"
            ]
          },
          "metadata": {},
          "execution_count": 169
        }
      ]
    },
    {
      "cell_type": "markdown",
      "metadata": {
        "id": "AYDCtEDaESYL"
      },
      "source": [
        "3. What are the top ten suppliers in terms of value (total cost in euros) spent by the municipality of Lisbon?"
      ]
    },
    {
      "cell_type": "code",
      "metadata": {
        "colab": {
          "base_uri": "https://localhost:8080/"
        },
        "id": "McY2olbCESYM",
        "outputId": "94868785-8d1d-4b6d-9599-052b14e55d3d"
      },
      "source": [
        "top_ten_suppliers = procurements_municipalities[procurements_municipalities['issuerName']=='Município de Lisboa']\n",
        "\n",
        "top_ten_suppliers = top_ten_suppliers.groupby('cpv')['precoContratual'].sum()\n",
        "\n",
        "top_ten_suppliers.nlargest(10)"
      ],
      "execution_count": 170,
      "outputs": [
        {
          "output_type": "execute_result",
          "data": {
            "text/plain": [
              "cpv\n",
              "45214000-0 - Construção de edifícios destinados à educação ou à investigação    17961497.84\n",
              "98390000-3 - Outros serviços                                                    13960549.01\n",
              "45112700-2 - Trabalhos de paisagismo                                            10813002.25\n",
              "45000000-7 - Construção                                                         10531445.24\n",
              "90910000-9 - Serviços de limpeza                                                10471798.04\n",
              "45453100-8 - Obras de recuperação                                                8148441.68\n",
              "79714000-2 - Serviços de vigilância                                              8109278.67\n",
              "45215215-7 - Construção de infantário                                            7849312.67\n",
              "45211350-7 - Construção de edifícios multifuncionais                             6578226.59\n",
              "45212100-7 - Construção de instalações para ocupação de tempos livres            5530271.15\n",
              "Name: precoContratual, dtype: float64"
            ]
          },
          "metadata": {},
          "execution_count": 170
        }
      ]
    },
    {
      "cell_type": "markdown",
      "metadata": {
        "id": "gS7PLzM2ESYN"
      },
      "source": [
        "4. What are the top ten services in terms of value (total cost in euros) supplied to the Municipality of Lisbon?"
      ]
    },
    {
      "cell_type": "code",
      "metadata": {
        "colab": {
          "base_uri": "https://localhost:8080/"
        },
        "id": "YI9To9omESYO",
        "outputId": "490d5d51-af1e-42ca-902a-0afa17a72a79"
      },
      "source": [
        "top_ten_services = procurements_municipalities[(procurements_municipalities['issuerName']=='Município de Lisboa') \n",
        "                                                & (procurements_municipalities['tipoContrato']=='Aquisição de serviços')]\n",
        "\n",
        "top_ten_services = top_ten_services.groupby('cpv')['precoContratual'].sum()\n",
        "\n",
        "top_ten_services.nlargest(10)"
      ],
      "execution_count": 171,
      "outputs": [
        {
          "output_type": "execute_result",
          "data": {
            "text/plain": [
              "cpv\n",
              "98390000-3 - Outros serviços                                                                     13960549.01\n",
              "90910000-9 - Serviços de limpeza                                                                 10471798.04\n",
              "79714000-2 - Serviços de vigilância                                                               8109278.67\n",
              "75000000-6 - Serviços relacionados com a administração pública, a defesa e a segurança social     4623269.64\n",
              "65310000-9 - Distribuição de electricidade                                                        4553178.91\n",
              "98300000-6 - Serviços diversos                                                                    3982355.27\n",
              "92620000-3 - Serviços relacionados com o desporto                                                 3509048.51\n",
              "55524000-9 - Serviços de fornecimento de refeições (catering) a escolas                           2915408.76\n",
              "55510000-8 - Serviços de cantinas                                                                 2907419.58\n",
              "09310000-5 - Electricidade                                                                        2860192.00\n",
              "Name: precoContratual, dtype: float64"
            ]
          },
          "metadata": {},
          "execution_count": 171
        }
      ]
    },
    {
      "cell_type": "markdown",
      "metadata": {
        "id": "yMzKOW5JESYO"
      },
      "source": [
        "5. Compute the average value of the procurements (only those contracted by municipalities) per supplier. <br>\n",
        "    5.1 Show as an histogram the number of companies that received a total amount X from municipalities. <br>\n",
        "    5.2 Identify the top 10 companies that received more money from municipalities."
      ]
    },
    {
      "cell_type": "code",
      "metadata": {
        "id": "vqFFW7M07HvY"
      },
      "source": [
        "#5.1 Pending"
      ],
      "execution_count": null,
      "outputs": []
    },
    {
      "cell_type": "code",
      "metadata": {
        "id": "DYREi5EnESYP",
        "colab": {
          "base_uri": "https://localhost:8080/"
        },
        "outputId": "551ad29d-305c-4512-92fa-ac5d12df1a68"
      },
      "source": [
        "top_ten_suppliers = procurements_municipalities[procurements_municipalities['issuerName']=='Município de Lisboa']\n",
        "\n",
        "top_ten_suppliers = top_ten_suppliers.groupby('supplierName')['precoContratual'].mean()\n",
        "\n",
        "top_ten_suppliers.nlargest(10)"
      ],
      "execution_count": 172,
      "outputs": [
        {
          "output_type": "execute_result",
          "data": {
            "text/plain": [
              "supplierName\n",
              "HCI - CONSTRUÇÕES, SA | 501354530 - Jular Madeiras, S.A.                                                               6.623791e+06\n",
              "LUIS FRAZÃO - CONSTRUÇÃO CIVIL E OBRAS PÚBLICAS, S.A. | 502050942 - VIBEIRAS - Sociedade Comercial de Plantas, S.A.    3.778242e+06\n",
              "IBERDROLA GENERACION, S.A.U.                                                                                           2.860192e+06\n",
              "CARI CONSTRUTORES SA | 501489126 - Domingos da Silva Teixeira, S.A.                                                    2.429297e+06\n",
              "Habitamega Construções, S.A.                                                                                           2.347747e+06\n",
              "Teixera, Pinto &amp; Soares, S.A.                                                                                      2.223267e+06\n",
              "CONSTRUTORA UDRA, LDA.                                                                                                 2.221174e+06\n",
              "Ferreira - Construção, S.A.                                                                                            2.198485e+06\n",
              "EDP Comercial, SA                                                                                                      1.941129e+06\n",
              "Controp-Congevia,SA | 505057204 - Gigabeira                                                                            1.789285e+06\n",
              "Name: precoContratual, dtype: float64"
            ]
          },
          "metadata": {},
          "execution_count": 172
        }
      ]
    },
    {
      "cell_type": "markdown",
      "metadata": {
        "id": "AQ9SFCzzESYP"
      },
      "source": [
        "6. What is the most common \"tipoprocedimento\" of procurements issued by municipalities? <br>\n",
        "    6.1 What if you consider only procurements with a value above 50 000 euros? <br>\n",
        "    6.2 How do you relate/compare these results with those obtained in Question 3 of Step 4?"
      ]
    },
    {
      "cell_type": "code",
      "metadata": {
        "id": "aHdeALVOESYQ"
      },
      "source": [
        ""
      ],
      "execution_count": null,
      "outputs": []
    },
    {
      "cell_type": "code",
      "metadata": {
        "id": "ewtukEnnESYR"
      },
      "source": [
        ""
      ],
      "execution_count": null,
      "outputs": []
    },
    {
      "cell_type": "markdown",
      "metadata": {
        "id": "RW3ABuKqESYR"
      },
      "source": [
        "<b>[Step 6. | 4 points ]</b> Next, and in the spirit of a vast scientific literature on Urban Scaling Laws (https://tinyurl.com/y8ohmzx7), let us investigate the relationship between the number and value of procurements issued by municipalities and their population size.\n",
        "\n",
        "To that end we will need to download and load an additional dataset that includes the population size of each municipality.<br> \n",
        "This dataset was obtained from the portal pordata. As is the case in many data science projects we don't have a perfect matching key between the population data and the procurement data we have been working so far. \n",
        "\n",
        "**NOTE. The file popsize.csv is available for download from Moodle.**\n",
        "\n",
        "1. Download the file popsize.csv from Moodle and load it to a dataframe. <br>\n",
        "    1.1 Explore the dataframe and explain how can you link this data to the procurement data."
      ]
    },
    {
      "cell_type": "code",
      "metadata": {
        "id": "XQQfMLgRESYS"
      },
      "source": [
        "popsize = pd.read_csv('popsize.csv', sep=';')\n",
        "\n",
        "popsize"
      ],
      "execution_count": null,
      "outputs": []
    },
    {
      "cell_type": "markdown",
      "metadata": {
        "id": "1B9kojcsESYU"
      },
      "source": [
        "Explanation:"
      ]
    },
    {
      "cell_type": "markdown",
      "metadata": {
        "id": "zejw_XNeESYV"
      },
      "source": [
        "2. Create a new dataframe in which contracts are aggregated by municipality. You should have a dataframe in which the columns correspond to: NIF; Municipality Name; Population Size; Number of Issued Procurements; Total Value of Issued Procurements. \n",
        "\n",
        "**Note:** You will have to merge at least two dataframes, and apply several aggregations."
      ]
    },
    {
      "cell_type": "code",
      "metadata": {
        "id": "LTz-r3qzESYW"
      },
      "source": [
        ""
      ],
      "execution_count": null,
      "outputs": []
    },
    {
      "cell_type": "markdown",
      "metadata": {
        "id": "uZKI_3qEESYX"
      },
      "source": [
        "3. It is common procedure to compare not the absolute values of the different dimensions but their Logarithm. In that sense, create three new columns in your dataframe that correspond to: <br>\n",
        "    i) The Logarithm of base 10 of the Total Value of Issue Procurements; <br>\n",
        "    ii) Number of Issued Procurements; <br>\n",
        "    iii) Population Size."
      ]
    },
    {
      "cell_type": "code",
      "metadata": {
        "id": "zsroJvKBESYX"
      },
      "source": [
        ""
      ],
      "execution_count": null,
      "outputs": []
    },
    {
      "cell_type": "markdown",
      "metadata": {
        "id": "P5bCJ97wESYY"
      },
      "source": [
        "4. Compute the pearson correlation between the municipalities Log of the Population Size with: <br>\n",
        "    i) the Log of Total Number of Issued Procurements; <br>\n",
        "    ii) the Log of the Total Value of Issued Procurements. \n",
        "    \n",
        "    Use the columns you pre computed in the previous question.\n",
        "    \n",
        "    4.1 **Make a scatter plot** for each pair of variables to assess the identified relationship."
      ]
    },
    {
      "cell_type": "code",
      "metadata": {
        "id": "OlwCWSENESYZ"
      },
      "source": [
        ""
      ],
      "execution_count": null,
      "outputs": []
    },
    {
      "cell_type": "markdown",
      "metadata": {
        "id": "vHEiqAqWESYZ"
      },
      "source": [
        "5. Can you build a linear model using the library Statsmodel that regresses the Logarithms of the Total Value of issued procurements as a funcion of the population size? What coefficient did you find? <br>\n",
        "**Tip:** You might to to look for some inspiration in the final part of Lab 7"
      ]
    },
    {
      "cell_type": "code",
      "metadata": {
        "id": "v3dLiImBESYb"
      },
      "source": [
        ""
      ],
      "execution_count": null,
      "outputs": []
    },
    {
      "cell_type": "markdown",
      "metadata": {
        "id": "pcey-fQ9ESYb"
      },
      "source": [
        "6. What if instead of the Total Value of issued procurments you had the Value per capita (per capita means per person in the local population)? How would that impact the results in points 6.4 and 6.5?<br>\n"
      ]
    },
    {
      "cell_type": "code",
      "metadata": {
        "id": "yrCXft68ESYc"
      },
      "source": [
        ""
      ],
      "execution_count": null,
      "outputs": []
    },
    {
      "cell_type": "markdown",
      "metadata": {
        "id": "sk7T1ZJXESYd"
      },
      "source": [
        "<b>[Step 7. | 2 point ]</b> Open Question. <br>\n",
        "Given the dataset you have been exploring, and the analysis conducted over the municipalities procurement dataset with the population data. Can you think about a question that you consider interesting to explore? Does it require to obtain additional data from, for instance, pordata?\n",
        "\n",
        "**On this final step you have full control. Be creative and show us your ability to raise a question, identify which data you require to explore it, and report the results. Be as objective and clear as possible with your answer.**\n",
        "\n",
        "Use as many cells as necessary."
      ]
    },
    {
      "cell_type": "code",
      "metadata": {
        "id": "2AFNBs8cESYe"
      },
      "source": [
        ""
      ],
      "execution_count": null,
      "outputs": []
    },
    {
      "cell_type": "markdown",
      "metadata": {
        "id": "b5gOqMciESYf"
      },
      "source": [
        "## End\n",
        "\n",
        "Submit this notebook in Moodle along with a statement of authorship in a single .zip archive."
      ]
    }
  ]
}